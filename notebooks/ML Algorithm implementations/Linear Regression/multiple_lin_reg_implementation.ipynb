{
 "metadata": {
  "language_info": {
   "codemirror_mode": {
    "name": "ipython",
    "version": 3
   },
   "file_extension": ".py",
   "mimetype": "text/x-python",
   "name": "python",
   "nbconvert_exporter": "python",
   "pygments_lexer": "ipython3",
   "version": "3.8.1-final"
  },
  "orig_nbformat": 2,
  "kernelspec": {
   "name": "python3",
   "display_name": "Python 3",
   "language": "python"
  }
 },
 "nbformat": 4,
 "nbformat_minor": 2,
 "cells": [
  {
   "source": [
    "<h2>Multiple linear regression algorithm implementation using normal equations method</h2>\n",
    "\n",
    "@author: Debidutta Dash"
   ],
   "cell_type": "markdown",
   "metadata": {}
  },
  {
   "cell_type": "code",
   "execution_count": 1,
   "metadata": {},
   "outputs": [],
   "source": [
    "import csv\n",
    "import random\n",
    "import math\n",
    "import numpy as np"
   ]
  },
  {
   "cell_type": "code",
   "execution_count": 2,
   "metadata": {},
   "outputs": [],
   "source": [
    "def loadDataset(filename):\n",
    "    with open(filename, 'r') as csvfile:\n",
    "        lines = csv.reader(csvfile)\n",
    "        dataset = list(lines)\n",
    "        headers = dataset[0]\n",
    "        dataset = dataset[1: len(dataset)]\n",
    "        return dataset, headers"
   ]
  },
  {
   "cell_type": "code",
   "execution_count": 3,
   "metadata": {},
   "outputs": [
    {
     "output_type": "stream",
     "name": "stdout",
     "text": [
      "HEADERS\n['No', 'X1 transaction date', 'X2 house age', 'X3 distance to the nearest MRT station', 'X4 number of convenience stores', 'X5 latitude', 'X6 longitude', 'Y house price of unit area']\n\nDATASET\n"
     ]
    },
    {
     "output_type": "display_data",
     "data": {
      "text/plain": "[['1', '2012.917', '32', '84.87882', '10', '24.98298', '121.54024', '37.9'],\n ['2', '2012.917', '19.5', '306.5947', '9', '24.98034', '121.53951', '42.2'],\n ['3', '2013.583', '13.3', '561.9845', '5', '24.98746', '121.54391', '47.3'],\n ['4', '2013.500', '13.3', '561.9845', '5', '24.98746', '121.54391', '54.8'],\n ['5', '2012.833', '5', '390.5684', '5', '24.97937', '121.54245', '43.1']]"
     },
     "metadata": {}
    },
    {
     "output_type": "stream",
     "name": "stdout",
     "text": [
      "\nDataset Size\n414 X 8\n"
     ]
    }
   ],
   "source": [
    "dataset, headers = loadDataset('E:/temp/Real estate.csv')\n",
    "\n",
    "print(\"HEADERS\")\n",
    "print(headers)\n",
    "print()\n",
    "print(\"DATASET\")\n",
    "display(dataset[0:5])\n",
    "print()\n",
    "print(\"Dataset Size\")\n",
    "print(len(dataset), \"X\", len(dataset[0]))\n"
   ]
  },
  {
   "cell_type": "code",
   "execution_count": 4,
   "metadata": {},
   "outputs": [],
   "source": [
    "dataset = np.array(dataset)\n",
    "dataset = dataset.astype(float)\n",
    "\n",
    "X = dataset[:, 2:-1]                                     #taking columns with index 2 to 6 as features in X\n",
    "Y = dataset[:, -1]                                       #taking the last column as label, i.e. 'price per unit area'\n",
    "\n"
   ]
  },
  {
   "cell_type": "code",
   "execution_count": 5,
   "metadata": {},
   "outputs": [
    {
     "output_type": "stream",
     "name": "stdout",
     "text": [
      "X head\n"
     ]
    },
    {
     "output_type": "display_data",
     "data": {
      "text/plain": "array([[ 32.     ,  84.87882,  10.     ,  24.98298, 121.54024],\n       [ 19.5    , 306.5947 ,   9.     ,  24.98034, 121.53951],\n       [ 13.3    , 561.9845 ,   5.     ,  24.98746, 121.54391],\n       [ 13.3    , 561.9845 ,   5.     ,  24.98746, 121.54391],\n       [  5.     , 390.5684 ,   5.     ,  24.97937, 121.54245]])"
     },
     "metadata": {}
    },
    {
     "output_type": "stream",
     "name": "stdout",
     "text": [
      "Size of X\n(414, 5)\n\n\n\nY head\n"
     ]
    },
    {
     "output_type": "display_data",
     "data": {
      "text/plain": "array([37.9, 42.2, 47.3, 54.8, 43.1])"
     },
     "metadata": {}
    },
    {
     "output_type": "stream",
     "name": "stdout",
     "text": [
      "Size of Y\n(414,)\n"
     ]
    }
   ],
   "source": [
    "print(\"X head\")\n",
    "display(X[0:5])\n",
    "print(\"Size of X\")\n",
    "print(X.shape)\n",
    "print(\"\\n\\n\")\n",
    "\n",
    "\n",
    "\n",
    "print(\"Y head\")\n",
    "display(Y[0:5])\n",
    "print(\"Size of Y\")\n",
    "print(Y.shape)"
   ]
  },
  {
   "cell_type": "code",
   "execution_count": 6,
   "metadata": {},
   "outputs": [],
   "source": [
    "#adding ones to X\n",
    "one = np.ones((len(X),1))\n",
    "X = np.append(one, X, axis=1)"
   ]
  },
  {
   "cell_type": "code",
   "execution_count": 7,
   "metadata": {},
   "outputs": [],
   "source": [
    "#reshape Y to a column vector\n",
    "Y = np.array(Y).reshape((len(Y),1))"
   ]
  },
  {
   "cell_type": "code",
   "execution_count": 8,
   "metadata": {},
   "outputs": [
    {
     "output_type": "stream",
     "name": "stdout",
     "text": [
      "X head\n"
     ]
    },
    {
     "output_type": "display_data",
     "data": {
      "text/plain": "array([[  1.     ,  32.     ,  84.87882,  10.     ,  24.98298, 121.54024],\n       [  1.     ,  19.5    , 306.5947 ,   9.     ,  24.98034, 121.53951],\n       [  1.     ,  13.3    , 561.9845 ,   5.     ,  24.98746, 121.54391],\n       [  1.     ,  13.3    , 561.9845 ,   5.     ,  24.98746, 121.54391],\n       [  1.     ,   5.     , 390.5684 ,   5.     ,  24.97937, 121.54245]])"
     },
     "metadata": {}
    },
    {
     "output_type": "stream",
     "name": "stdout",
     "text": [
      "Size of X\n(414, 6)\n\n\n\nY head\n"
     ]
    },
    {
     "output_type": "display_data",
     "data": {
      "text/plain": "array([[37.9],\n       [42.2],\n       [47.3],\n       [54.8],\n       [43.1]])"
     },
     "metadata": {}
    },
    {
     "output_type": "stream",
     "name": "stdout",
     "text": [
      "Size of Y\n(414, 1)\n"
     ]
    }
   ],
   "source": [
    "print(\"X head\")\n",
    "display(X[0:5])\n",
    "print(\"Size of X\")\n",
    "print(X.shape)\n",
    "print(\"\\n\\n\")\n",
    "\n",
    "\n",
    "\n",
    "print(\"Y head\")\n",
    "display(Y[0:5])\n",
    "print(\"Size of Y\")\n",
    "print(Y.shape)"
   ]
  },
  {
   "cell_type": "code",
   "execution_count": 9,
   "metadata": {},
   "outputs": [],
   "source": [
    "def train_test_split(X, Y, split):\n",
    "\n",
    "    #randomly assigning split% rows to training set and rest to test set \n",
    "    indices = np.array(range(len(X)))\n",
    "    \n",
    "    train_size = round(split * len(X))\n",
    "\n",
    "    random.shuffle(indices)\n",
    "\n",
    "    train_indices = indices[0:train_size]\n",
    "    test_indices = indices[train_size:len(X)]\n",
    "\n",
    "    X_train = X[train_indices, :]\n",
    "    X_test = X[test_indices, :]\n",
    "    Y_train = Y[train_indices, :]\n",
    "    Y_test = Y[test_indices, :]\n",
    "    \n",
    "    return X_train,Y_train, X_test, Y_test"
   ]
  },
  {
   "cell_type": "code",
   "execution_count": 10,
   "metadata": {},
   "outputs": [],
   "source": [
    "split = 0.7\n",
    "X_train, Y_train, X_test, Y_test = train_test_split(X, Y, split)"
   ]
  },
  {
   "cell_type": "code",
   "execution_count": 11,
   "metadata": {},
   "outputs": [
    {
     "output_type": "stream",
     "name": "stdout",
     "text": [
      "TRAINING SET\nX_train.shape:  (290, 6)\nY_train.shape:  (290, 1)\n\nTESTING SET\nX_test.shape:  (124, 6)\nY_test.shape:  (124, 1)\n"
     ]
    }
   ],
   "source": [
    "print (\"TRAINING SET\")\n",
    "print(\"X_train.shape: \", X_train.shape)\n",
    "print(\"Y_train.shape: \", Y_train.shape)\n",
    "\n",
    "print()\n",
    "print(\"TESTING SET\")\n",
    "print(\"X_test.shape: \", X_test.shape)\n",
    "print(\"Y_test.shape: \", Y_test.shape)"
   ]
  },
  {
   "cell_type": "code",
   "execution_count": 12,
   "metadata": {},
   "outputs": [],
   "source": [
    "def cost_function(X, Y):\n",
    "    beta = np.dot ( ( np.linalg.inv( np.dot( X.T, X ) ) ), np.dot( X.T, Y ) )\n",
    "\n",
    "    return beta"
   ]
  },
  {
   "cell_type": "code",
   "execution_count": 13,
   "metadata": {},
   "outputs": [],
   "source": [
    "def predict(X_test, beta):\n",
    "    return np.dot(X_test, beta)"
   ]
  },
  {
   "cell_type": "code",
   "execution_count": 14,
   "metadata": {},
   "outputs": [
    {
     "output_type": "stream",
     "name": "stdout",
     "text": [
      "(124, 1)\n"
     ]
    }
   ],
   "source": [
    "beta = cost_function(X_train, Y_train)\n",
    "predictions = predict(X_test, beta)\n",
    "\n",
    "print(predictions.shape)"
   ]
  },
  {
   "cell_type": "code",
   "execution_count": 15,
   "metadata": {},
   "outputs": [],
   "source": [
    "def metrix(predictions, Y_test):\n",
    "\n",
    "    #calculating mean absolute error\n",
    "    MAE = np.mean(np.abs(predictions-Y_test))\n",
    "\n",
    "    #calculating root mean square error\n",
    "    MSE = np.square(np.subtract(Y_test,predictions)).mean() \n",
    "    RMSE = math.sqrt(MSE)\n",
    "\n",
    "    #calculating r_square\n",
    "    rss = np.sum(np.square((Y_test- predictions)))\n",
    "    mean = np.mean(Y_test)\n",
    "    sst = np.sum(np.square(Y_test-mean))\n",
    "    r_square = 1 - (rss/sst)\n",
    "    \n",
    "\n",
    "    return MAE, RMSE, r_square"
   ]
  },
  {
   "cell_type": "code",
   "execution_count": 16,
   "metadata": {},
   "outputs": [
    {
     "output_type": "stream",
     "name": "stdout",
     "text": [
      "Mean Absolute Error:  5.484897442452742\nRoot Mean Square Error:  7.038888303432659\nR square:  0.6927055239131656\n"
     ]
    }
   ],
   "source": [
    "mae, rmse, r_square = metrix(predictions, Y_test)\n",
    "print(\"Mean Absolute Error: \", mae)\n",
    "print(\"Root Mean Square Error: \", rmse)\n",
    "print(\"R square: \", r_square)"
   ]
  },
  {
   "source": [
    "<h3>References:</h3>\n",
    "\n",
    "Theory behind the algorithm: http://cs229.stanford.edu/notes2020spring/cs229-notes1.pdf\n",
    "<br>\n",
    "For implementing R square: https://www.geeksforgeeks.org/python-coefficient-of-determination-r2-score/"
   ],
   "cell_type": "markdown",
   "metadata": {}
  }
 ]
}